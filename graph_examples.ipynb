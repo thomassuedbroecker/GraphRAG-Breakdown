{
 "cells": [
  {
   "cell_type": "markdown",
   "id": "d362591e-9f54-46f9-b703-49062ac3072f",
   "metadata": {},
   "source": [
    "# Knowledge Graph RAG\n",
    "\n",
    "<img src=\"./media/graph_start.png\" width=600>\n",
    "\n",
    "*[Improving Knowledge Graph Completion with Generative LM and neighbors](https://deeppavlov.ai/research/tpost/bn15u1y4v1-improving-knowledge-graph-completion-wit)*\n",
    "\n",
    "In the evolving landscape of AI and information retrieval, knowledge graphs have emerged as a powerful way to represent complex, interconnected information. A knowledge graph is a knowledge base that uses a graph-structured data model or topology to represent and operate on data. Knowledge graphs are often used to store interlinked descriptions of entities – objects, events, situations or abstract concepts – while also encoding the free-form semantics or relationships underlying these entities. [Source: Wikipedia](https://en.wikipedia.org/wiki/Knowledge_graph)\n",
    "\n",
    "What makes knowledge graphs particularly powerful is their ability to mirror human cognition in data. They more explicitly map the relationships between objects, concepts, or ideas together through both their semantic and relational connections. This approach closely parallels how our brains naturally understand and internalize information – not as isolated facts, but as a web of interconnected concepts and relationships.\n",
    "\n",
    "<img src=\"./media/coffee_graph_ex.png\" width=400>\n",
    "\n",
    "Looking at a concept like \"coffee,\" we don't just know it's a beverage; we automatically connect it to related concepts like beans, brewing methods, caffeine, morning routines, and social interactions. Knowledge graphs capture these natural associations in a structured way.\n",
    "\n",
    "Traditional RAG systems, while effective at semantic similarity-based retrieval, often struggle to capture broader conceptual relationships across text chunks. Knowledge Graph RAG addresses this limitation by introducing a structured, hierarchical approach to information organization and retrieval. By representing data in a graph format, these systems can traverse relationships between concepts, enabling more sophisticated query understanding and response generation. This approach allows for targeted querying along specific relationship paths, handles complex multi-hop questions, and provides clearer reasoning through explicit connection paths. The result is a more nuanced and interpretable system that combines the structured reasoning of knowledge graphs with the natural language capabilities of large language models.\n",
    "\n",
    "While [knowledge graphs are not a new concept](https://blog.google/products/search/introducing-knowledge-graph-things-not/), their creation has traditionally been a resource-intensive process. Early knowledge graphs were built either through manual curation by domain experts or by converting existing structured data from relational databases. This limited both their scale and adaptability to new domains.\n",
    "\n",
    "<img src=\"./media/table_comp.png\" width=600>\n",
    "\n",
    "*[What is a Knowledge Graph (KG)?](https://zilliz.com/learn/what-is-knowledge-graph)*\n",
    "\n",
    "The introduction of LLMs has transformed this landscape. LLMs' capabilities in NLP, reasoning, and relationship extraction now enable automated construction of knowledge graphs from unstructured text. These models can identify entities, infer relationships, and structure information in ways that previously required extensive manual labor. As a plus, this allows knowledge graphs to be dynamically updated and expanded as new information becomes available, making them more practical and scalable for real-world applications.\n",
    "\n",
    "To see this in action ourselves, and compare it to traditional vector similarity techniques, we'll take a look at Microsoft's Open Source [GraphRAG](https://microsoft.github.io/graphrag/) and how it works behind the scenes."
   ]
  },
  {
   "cell_type": "markdown",
   "id": "cb752dad-d6bf-436f-a175-03a1d491bb3e",
   "metadata": {},
   "source": [
    "---\n",
    "## 3 Main Components of Knowledge Graphs\n",
    "\n",
    "**Entity**\n",
    "\n",
    "<img src=\"./media/entities.png\" width=500>\n",
    "\n",
    "An Entity is a distinct object, person, place, event, or concept that has been extracted from a chunk of text through LLM analysis. Entities form the nodes of the knowledge graph. During the creation of the knowledge graph, when duplicate entities are found they are merged while preserving their various descriptions, creating a comprehensive representation of each unique entity.\n",
    "\n",
    "**Relationship**\n",
    "\n",
    "<img src=\"./media/relationship.png\" width=400>\n",
    "\n",
    "A Relationship defines a connection between two entities in the knowledge graph. These connections are extracted directly from text units through LLM analysis, alongside entities. Each relationship includes a source entity, target entity, and descriptive information about their connection. When duplicate relationships are found between the same entities, they are merged by combining their descriptions to create a more complete understanding of the connection.\n",
    "\n",
    "**Community**\n",
    "\n",
    "<img src=\"./media/communities.png\" width=400>\n",
    "\n",
    "A Community is a cluster of related entities and relationships identified through hierarchical community detection, generally using the [Leiden Algorithm](https://en.wikipedia.org/wiki/Leiden_algorithm). Communities create a structured way to understand different levels of granularity within the knowledge graph, from broad overviews at the top level to detailed local clusters at lower levels. This hierarchical structure helps in organizing and navigating complex knowledge graphs."
   ]
  },
  {
   "cell_type": "markdown",
   "id": "f5d7e77f-a543-49e2-813e-c1305f7a058d",
   "metadata": {},
   "source": [
    "---\n",
    "## GraphRAG Creation Data Flow\n",
    "\n",
    "<img src=./media/graph_building.png width=1000>\n",
    "\n",
    "Indexxing in GraphRAG is an extensive process, where we load the document, split it into chunks, create sub graphs at a chunk level, combine these subgraphs into our final graph, algorithmically identify communities, then document the communities main features."
   ]
  },
  {
   "cell_type": "markdown",
   "id": "19896a38-bcf7-4664-9f57-cb12cf15cdea",
   "metadata": {},
   "source": [
    "### **Loading and Splitting Our Text**\n",
    "\n",
    "For our example, we'll be using [The Ultimate Guide to Fine-Tuning LLMs from Basics to Breakthroughs: An Exhaustive Review of Technologies, Research, Best Practices, Applied Research Challenges and Opportunities](https://arxiv.org/pdf/2408.13296).\n",
    "\n",
    "This will be loaded as a text file (remove index, glossary, and references) and split into 1200 token, 100 token overlap chunks."
   ]
  },
  {
   "cell_type": "code",
   "execution_count": 1,
   "id": "97e6a581-74a1-455e-8634-2c94d6496e45",
   "metadata": {},
   "outputs": [
    {
     "name": "stdout",
     "output_type": "stream",
     "text": [
      "Texts: 2\n",
      "********** 1 content *************\n",
      "## Galaxium Travels - Company Overview\n",
      "\n",
      "Galaxium Travels Logo\n",
      "\n",
      "## Company Profile\n",
      "\n",
      "Founded in 2025, Galaxium Travels has established itself as the premier luxury space travel experience provider. Our company combines cuttingedge space technology with unparalleled luxury service to create unforgettable journeys beyond Earth's atmosphere.\n",
      "\n",
      "## Mission Statement\n",
      "\n",
      "To democratize space travel while maintaining the highest standards of luxury, safety, and environmental responsibility, making the cosmos accessible to those who dream of exploring the final frontier.\n",
      "\n",
      "## Vision\n",
      "\n",
      "To become the leading space tourism company by 2030, offering a diverse portfolio of space travel experiences that range from orbital flights to lunar excursions, while pioneering sustainable space travel practices.\n",
      "\n",
      "## Core Values\n",
      "\n",
      "## Excellence in Service 1.\n",
      "\n",
      "- Uncompromising commitment to customer satisfaction ◦\n",
      "- Personalized attention to every detail ◦\n",
      "- World-class amenities and experiences ◦\n",
      "- Safety First 2.\n",
      "- Rigorous safety protocols ◦\n",
      "- Continuous training and certification ◦\n",
      "- State-of-the-art spacecraft maintenance ◦\n",
      "- Innovation 3.\n",
      "- Continuous research and development ◦\n",
      "- Adoption of cutting-edge space technology ◦\n",
      "- Creative approach to space tourism ◦\n",
      "- Sustainability 4.\n",
      "- Eco-friendly propulsion systems ◦\n",
      "- Minimal environmental impact ◦\n",
      "- Sustainable space tourism practices ◦\n",
      "- Accessibility 5.\n",
      "- Diverse travel packages ◦\n",
      "- Flexible payment options ◦\n",
      "- Inclusive space travel programs ◦\n",
      "\n",
      "<!-- image -->\n",
      "\n",
      "## Key Statistics\n",
      "\n",
      "- Founded •\n",
      "\n",
      "- : 2025\n",
      "\n",
      "- Headquarters : Spaceport Alpha, Mojave Desert, California •\n",
      "\n",
      "- Employees •\n",
      "\n",
      "- : 500+\n",
      "\n",
      "- Spacecraft Fleet : 5 luxury vessels •\n",
      "\n",
      "- Annual Passengers •\n",
      "\n",
      ": 1,000+\n",
      "\n",
      "- Customer Satisfaction •\n",
      "\n",
      ": 98%\n",
      "\n",
      "## Leadership Team\n",
      "\n",
      "- CEO : Dr. Alexander Nova •\n",
      "\n",
      "- CTO : Dr. Sarah Quantum •\n",
      "\n",
      "- COO : James Stellar •\n",
      "\n",
      "- CFO : Maria Cosmos •\n",
      "\n",
      "- CCO : David Orbit •\n",
      "\n",
      "<!-- image -->\n",
      "\n",
      "## Current Operations\n",
      "\n",
      "## Primary Services\n",
      "\n",
      "- Orbital Flights 1.\n",
      "- 3-day luxury space station experience ◦\n",
      "- Zero-gravity activities ◦\n",
      "- Earth observation opportunities ◦\n",
      "- Lunar\n",
      "\n",
      "********** 2 content *************\n",
      " ◦\n",
      "- Zero-gravity activities ◦\n",
      "- Earth observation opportunities ◦\n",
      "- Lunar Excursions 2.\n",
      "- 7-day lunar orbit packages ◦\n",
      "- Moon surface exploration ◦\n",
      "- Luxury accommodations in lunar orbit ◦\n",
      "- Space Hotel Stays 3.\n",
      "- Extended stays in our orbital luxury hotel ◦\n",
      "- Customized space experiences ◦\n",
      "- Professional space photography ◦\n",
      "\n",
      "## Future Plans\n",
      "\n",
      "- Mars Expeditions (2030) 1.\n",
      "- Venus Flyby Tours (2032) 2.\n",
      "- Jupiter's Moon Exploration (2035) 3.\n",
      "\n",
      "## Market Position\n",
      "\n",
      "Galaxium Travels currently holds a 45% market share in the luxury space tourism sector, with a projected growth rate of 30% annually. Our unique selling proposition lies in combining cutting-edge space technology with five-star luxury service.\n",
      "\n",
      "## Partnerships\n",
      "\n",
      "- NASA (Technology Development) ·\n",
      "- SpaceX (Launch Services) ·\n",
      "- Blue Origin (Infrastructure) ·\n",
      "- International Space Station (Accommodation) ·\n",
      "- Various luxury brands (In-flight amenities) ·\n",
      "\n",
      "<!-- image -->\n",
      "\n",
      "## Awards and Recognition\n",
      "\n",
      "- \"Best Space Tourism Company\" - Space Tourism Awards 2026 ·\n",
      "- \"Innovation in Luxury Travel\" - Luxury Travel Magazine 2027 ·\n",
      "- \"Environmental Excellence in Space\" - Green Space Initiative 2026 ·\n",
      "\n",
      "## Financial Overview\n",
      "\n",
      "- Annual Revenue: $500M •\n",
      "\n",
      "- Profit Margin: 25%\n",
      "\n",
      "- R&amp;D Investment: 15% of revenue •\n",
      "\n",
      "- Market Capitalization: $2B •\n",
      "\n",
      "- •\n",
      "\n",
      "## Corporate Social Responsibility\n",
      "\n",
      "- Space Education Initiative 1.\n",
      "- Scholarships for space studies ◦\n",
      "- Public space education programs ◦\n",
      "- STEM outreach ◦\n",
      "- Environmental Programs 2.\n",
      "- Carbon-neutral operations ◦\n",
      "- Space debris mitigation ◦\n",
      "- Sustainable propulsion research ◦\n",
      "- Community Engagement 3.\n",
      "- Local spaceport community development ◦\n",
      "- Space technology knowledge sharing ◦\n",
      "- Global space awareness programs \n",
      "\n"
     ]
    }
   ],
   "source": [
    "from langchain_text_splitters import TokenTextSplitter\n",
    "\n",
    "with open(\"./ragtest/input/company_overview.md\", 'r') as file:\n",
    "    content = file.read()\n",
    "\n",
    "text_splitter = TokenTextSplitter(chunk_size=512, chunk_overlap=20)\n",
    "\n",
    "texts = text_splitter.split_text(content)\n",
    "print(f\"Texts: {len(texts)}\")\n",
    "i = 1\n",
    "for text in texts:\n",
    "    print(f\"********** {i} content *************\\n{text}\\n\")\n",
    "    i = i + 1"
   ]
  },
  {
   "cell_type": "markdown",
   "id": "2df9e65e-531c-4e94-9808-4ede865621d7",
   "metadata": {},
   "source": [
    "**Entity and Relationship Extraction Prompt**\n",
    "\n",
    "This is a [tuned](https://microsoft.github.io/graphrag/prompt_tuning/auto_prompt_tuning/) entity extraction prompt used in our real GraphRAG implementation, extracted in this format to see what's happening."
   ]
  },
  {
   "cell_type": "markdown",
   "id": "2589c972-36b7-4140-adcf-98f8827d8802",
   "metadata": {},
   "source": [
    "**Connect to watsonx.ai** "
   ]
  },
  {
   "cell_type": "code",
   "execution_count": 2,
   "id": "788f8400-ade5-43ad-b476-e5eea2c07a02",
   "metadata": {},
   "outputs": [
    {
     "name": "stdout",
     "output_type": "stream",
     "text": [
      "***Log: Define APIClient using env variables\n"
     ]
    }
   ],
   "source": [
    "from langchain_core.prompts import ChatPromptTemplate\n",
    "from langchain_core.output_parsers import StrOutputParser, JsonOutputParser\n",
    "from langchain_ibm import ChatWatsonx, WatsonxEmbeddings\n",
    "from ibm_watsonx_ai import APIClient, Credentials\n",
    "\n",
    "from dotenv import load_dotenv\n",
    "import os\n",
    "load_dotenv()\n",
    "\n",
    "# Model ids\n",
    "WATSONX_MODEL_ID = os.environ.get(\"WATSONX_MODEL_ID\")\n",
    "WATSONX_EMBEDDING_MODEL_ID = os.environ.get(\"WATSONX_EMBEDDING_MODEL_ID\")\n",
    "\n",
    "print(f\"***Log: Define APIClient using env variables\")\n",
    "api_client = APIClient(\n",
    "    credentials=Credentials(\n",
    "        url=os.environ.get(\"WATSONX_URL\"),\n",
    "        api_key=os.environ.get(\"WATSONX_APIKEY\"),\n",
    "        token=os.environ.get(\"WATSONX_TOKEN\"),\n",
    "    ),\n",
    "    space_id=os.environ.get(\"WATSONX_SPACE_ID\"),\n",
    "    project_id=os.environ.get(\"WATSONX_PROJECT_ID\"),\n",
    ")"
   ]
  },
  {
   "cell_type": "markdown",
   "id": "505f12f2-e8d7-4539-a5b3-7b789f522cf5",
   "metadata": {},
   "source": [
    "**Set LLM chat model**"
   ]
  },
  {
   "cell_type": "code",
   "execution_count": 3,
   "id": "93d82884-5e18-40a0-97de-60e0d5c8a1d2",
   "metadata": {},
   "outputs": [],
   "source": [
    "llm = ChatWatsonx(model_id=WATSONX_MODEL_ID, watsonx_client=api_client, temperature=0)\n",
    "embedding_func = WatsonxEmbeddings(\n",
    "    model_id=WATSONX_EMBEDDING_MODEL_ID,\n",
    "    watsonx_client=api_client,\n",
    "    params={\"truncate_input_tokens\": 8000},\n",
    ")"
   ]
  },
  {
   "cell_type": "markdown",
   "id": "b08db2c3-d4c7-4b01-a2e0-22440619fec5",
   "metadata": {},
   "source": [
    "**Set prompt template**"
   ]
  },
  {
   "cell_type": "code",
   "execution_count": 4,
   "id": "b6236c47-8584-41d6-8553-f516e282d319",
   "metadata": {},
   "outputs": [],
   "source": [
    "prompt_template = \"\"\"\n",
    "-Goal-\n",
    "Given a text document that is potentially relevant to this activity and a list of entity types, identify all entities of those types from the text and all relationships among the identified entities.\n",
    "\n",
    "-Steps-\n",
    "1. Identify all entities. For each identified entity, extract the following information:\n",
    "- entity_name: Name of the entity, capitalized\n",
    "- entity_type: One of the following types: [large language model, differential privacy, federated learning, healthcare, adversarial training, security measures, open-source tool, dataset, learning rate, AdaGrad, RMSprop, adapter architecture, LoRA, API, model support, evaluation metrics, deployment, Python library, hardware accelerators, hyperparameters, data preprocessing, data imbalance, GPU-based deployment, distributed inference]\n",
    "- entity_description: Comprehensive description of the entity's attributes and activities\n",
    "Format each entity as (\"entity\"{{tuple_delimiter}}<entity_name>{{tuple_delimiter}}<entity_type>{{tuple_delimiter}}<entity_description>)\n",
    "\n",
    "2. From the entities identified in step 1, identify all pairs of (source_entity, target_entity) that are *clearly related* to each other.\n",
    "For each pair of related entities, extract the following information:\n",
    "- source_entity: name of the source entity, as identified in step 1\n",
    "- target_entity: name of the target entity, as identified in step 1\n",
    "- relationship_description: explanation as to why you think the source entity and the target entity are related to each other\n",
    "- relationship_strength: an integer score between 1 to 10, indicating strength of the relationship between the source entity and target entity\n",
    "Format each relationship as (\"relationship\"{{tuple_delimiter}}<source_entity>{{tuple_delimiter}}<target_entity>{{tuple_delimiter}}<relationship_description>{{tuple_delimiter}}<relationship_strength>)\n",
    "\n",
    "3. Return output in The primary language of the provided text is \"English.\" as a single list of all the entities and relationships identified in steps 1 and 2. Use **{{record_delimiter}}** as the list delimiter.\n",
    "\n",
    "4. If you have to translate into The primary language of the provided text is \"English.\", just translate the descriptions, nothing else!\n",
    "\n",
    "5. When finished, output {{completion_delimiter}}.\n",
    "\n",
    "-Examples-\n",
    "######################\n",
    "\n",
    "Example 1:\n",
    "\n",
    "entity_types: [large language model, differential privacy, federated learning, healthcare, adversarial training, security measures, open-source tool, dataset, learning rate, AdaGrad, RMSprop, adapter architecture, LoRA, API, model support, evaluation metrics, deployment, Python library, hardware accelerators, hyperparameters, data preprocessing, data imbalance, GPU-based deployment, distributed inference]\n",
    "text:\n",
    " LLMs to create synthetic samples that mimic clients’ private data distribution using\n",
    "differential privacy. This approach significantly boosts SLMs’ performance by approximately 5% while\n",
    "maintaining data privacy with a minimal privacy budget, outperforming traditional methods relying\n",
    "solely on local private data.\n",
    "In healthcare, federated fine-tuning can allow hospitals to collaboratively train models on patient data\n",
    "without transferring sensitive information. This approach ensures data privacy while enabling the de-\n",
    "velopment of robust, generalisable AI systems.\n",
    "8https://ai.meta.com/responsible-ai/\n",
    "9https://huggingface.co/docs/hub/en/model-cards\n",
    "10https://www.tensorflow.org/responsible_ai/privacy/guide\n",
    "101 Frameworks for Enhancing Security\n",
    "Adversarial training and robust security measures[111] are essential for protecting fine-tuned models\n",
    "against attacks. The adversarial training approach involves training models with adversarial examples\n",
    "to improve their resilience against malicious inputs. Microsoft Azure’s\n",
    "------------------------\n",
    "output:\n",
    "(\"entity\"{{tuple_delimiter}}DIFFERENTIAL PRIVACY{{tuple_delimiter}}differential privacy{{tuple_delimiter}}Differential privacy is a technique used to create synthetic samples that mimic clients' private data distribution while maintaining data privacy with a minimal privacy budget{{record_delimiter}}\n",
    "(\"entity\"{{tuple_delimiter}}HEALTHCARE{{tuple_delimiter}}healthcare{{tuple_delimiter}}In healthcare, federated fine-tuning allows hospitals to collaboratively train models on patient data without transferring sensitive information, ensuring data privacy{{record_delimiter}}\n",
    "(\"entity\"{{tuple_delimiter}}FEDERATED LEARNING{{tuple_delimiter}}federated learning{{tuple_delimiter}}Federated learning is a method that enables collaborative model training on decentralized data sources, such as hospitals, without sharing sensitive information{{record_delimiter}}\n",
    "(\"entity\"{{tuple_delimiter}}ADVERSARIAL TRAINING{{tuple_delimiter}}adversarial training{{tuple_delimiter}}Adversarial training involves training models with adversarial examples to improve their resilience against malicious inputs{{record_delimiter}}\n",
    "(\"entity\"{{tuple_delimiter}}SECURITY MEASURES{{tuple_delimiter}}security measures{{tuple_delimiter}}Robust security measures are essential for protecting fine-tuned models against attacks{{record_delimiter}}\n",
    "(\"relationship\"{{tuple_delimiter}}DIFFERENTIAL PRIVACY{{tuple_delimiter}}FEDERATED LEARNING{{tuple_delimiter}}Differential privacy is used in federated learning to maintain data privacy while training models collaboratively{{tuple_delimiter}}8{{record_delimiter}}\n",
    "(\"relationship\"{{tuple_delimiter}}HEALTHCARE{{tuple_delimiter}}FEDERATED LEARNING{{tuple_delimiter}}Federated learning is applied in healthcare to train models on patient data without transferring sensitive information{{tuple_delimiter}}9{{record_delimiter}}\n",
    "(\"relationship\"{{tuple_delimiter}}ADVERSARIAL TRAINING{{tuple_delimiter}}SECURITY MEASURES{{tuple_delimiter}}Adversarial training is a security measure used to protect models against attacks by improving their resilience{{tuple_delimiter}}8{{completion_delimiter}}\n",
    "#############################\n",
    "\n",
    "\n",
    "Example 2:\n",
    "\n",
    "entity_types: [large language model, differential privacy, federated learning, healthcare, adversarial training, security measures, open-source tool, dataset, learning rate, AdaGrad, RMSprop, adapter architecture, LoRA, API, model support, evaluation metrics, deployment, Python library, hardware accelerators, hyperparameters, data preprocessing, data imbalance, GPU-based deployment, distributed inference]\n",
    "text:\n",
    "ARD [82] is an innovative open-source tool developed to enhance the safety of interactions\n",
    "with large language models (LLMs). This tool addresses three critical moderation tasks: detecting\n",
    "2https://huggingface.co/docs/transformers/en/model_doc/auto#transformers.AutoModelForCausalLM\n",
    "63 harmful intent in user prompts, identifying safety risks in model responses, and determining when a\n",
    "model appropriately refuses unsafe requests. Central to its development is WILDGUARD MIX3, a\n",
    "meticulously curated dataset comprising 92,000 labelled examples that include both benign prompts and\n",
    "adversarial attempts to bypass safety measures. The dataset is divided into WILDGUARD TRAIN, used\n",
    "for training the model, and WILDGUARD TEST, consisting of high-quality human-annotated examples\n",
    "for evaluation.\n",
    "The WILDGUARD model itself is fine-tuned on the Mistral-7B language model using the WILDGUARD\n",
    "TRAIN dataset, enabling it to perform all\n",
    "------------------------\n",
    "output:\n",
    "```plaintext\n",
    "(\"entity\"{{tuple_delimiter}}ARD{{tuple_delimiter}}open-source tool{{tuple_delimiter}}ARD is an innovative open-source tool developed to enhance the safety of interactions with large language models by addressing moderation tasks such as detecting harmful intent, identifying safety risks, and determining appropriate refusals of unsafe requests)\n",
    "{{record_delimiter}}\n",
    "(\"entity\"{{tuple_delimiter}}LARGE LANGUAGE MODELS{{tuple_delimiter}}large language model{{tuple_delimiter}}Large language models (LLMs) are advanced AI models designed to understand and generate human-like text, which ARD aims to interact with safely)\n",
    "{{record_delimiter}}\n",
    "(\"entity\"{{tuple_delimiter}}WILDGUARD MIX3{{tuple_delimiter}}dataset{{tuple_delimiter}}WILDGUARD MIX3 is a meticulously curated dataset comprising 92,000 labeled examples, including benign prompts and adversarial attempts, used for training and evaluating safety measures in language models)\n",
    "{{record_delimiter}}\n",
    "(\"entity\"{{tuple_delimiter}}WILDGUARD TRAIN{{tuple_delimiter}}dataset{{tuple_delimiter}}WILDGUARD TRAIN is a subset of the WILDGUARD MIX3 dataset used specifically for training the model on safety measures)\n",
    "{{record_delimiter}}\n",
    "(\"entity\"{{tuple_delimiter}}WILDGUARD TEST{{tuple_delimiter}}dataset{{tuple_delimiter}}WILDGUARD TEST is a subset of the WILDGUARD MIX3 dataset consisting of high-quality human-annotated examples used for evaluating the model's performance)\n",
    "{{record_delimiter}}\n",
    "(\"entity\"{{tuple_delimiter}}MISTRAL-7B{{tuple_delimiter}}large language model{{tuple_delimiter}}Mistral-7B is a language model that the WILDGUARD model is fine-tuned on using the WILDGUARD TRAIN dataset to enhance its safety performance)\n",
    "{{record_delimiter}}\n",
    "(\"entity\"{{tuple_delimiter}}ADVERSARIAL ATTEMPTS{{tuple_delimiter}}adversarial training{{tuple_delimiter}}Adversarial attempts are part of the WILDGUARD MIX3 dataset, used to test and improve the model's ability to handle unsafe or harmful inputs)\n",
    "{{record_delimiter}}\n",
    "(\"entity\"{{tuple_delimiter}}SAFETY MEASURES{{tuple_delimiter}}security measures{{tuple_delimiter}}Safety measures are protocols and techniques implemented to ensure that large language models interact safely with users, which ARD and the WILDGUARD dataset aim to enhance)\n",
    "{{record_delimiter}}\n",
    "(\"relationship\"{{tuple_delimiter}}ARD{{tuple_delimiter}}LARGE LANGUAGE MODELS{{tuple_delimiter}}ARD is designed to enhance the safety of interactions with large language models by addressing critical moderation tasks{{tuple_delimiter}}8)\n",
    "{{record_delimiter}}\n",
    "(\"relationship\"{{tuple_delimiter}}ARD{{tuple_delimiter}}WILDGUARD MIX3{{tuple_delimiter}}ARD uses the WILDGUARD MIX3 dataset to train and evaluate its moderation capabilities{{tuple_delimiter}}7)\n",
    "{{record_delimiter}}\n",
    "(\"relationship\"{{tuple_delimiter}}WILDGUARD MIX3{{tuple_delimiter}}WILDGUARD TRAIN{{tuple_delimiter}}WILDGUARD TRAIN is a subset of the WILDGUARD MIX3 dataset used for training{{tuple_delimiter}}9)\n",
    "{{record_delimiter}}\n",
    "(\"relationship\"{{tuple_delimiter}}WILDGUARD MIX3{{tuple_delimiter}}WILDGUARD TEST{{tuple_delimiter}}WILDGUARD TEST is a subset of the WILDGUARD MIX3 dataset used for evaluation{{tuple_delimiter}}9)\n",
    "{{record_delimiter}}\n",
    "(\"relationship\"{{tuple_delimiter}}WILDGUARD TRAIN{{tuple_delimiter}}MISTRAL-7B{{tuple_delimiter}}The WILDGUARD TRAIN dataset is used to fine-tune the Mistral-7B language model{{tuple_delimiter}}8)\n",
    "{{record_delimiter}}\n",
    "(\"relationship\"{{tuple_delimiter}}ADVERSARIAL ATTEMPTS{{tuple_delimiter}}SAFETY MEASURES{{tuple_delimiter}}Adversarial attempts are used to test and improve safety measures in language models{{tuple_delimiter}}7)\n",
    "{{completion_delimiter}}\n",
    "```\n",
    "#############################\n",
    "\n",
    "-Real Data-\n",
    "######################\n",
    "entity_types: [company, company profile, technology]\n",
    "text: {input_text}\n",
    "######################\n",
    "output:\n",
    "\"\"\"\n",
    "\n",
    "# Variation for entity_types: [company, company profile, person, c-levels, technology, planets, budget, vison] will generate much more entities.\n",
    "\n",
    "prompt = ChatPromptTemplate.from_template(prompt_template)\n",
    "\n",
    "chain_text = prompt | llm | StrOutputParser()"
   ]
  },
  {
   "cell_type": "markdown",
   "id": "0742c48f-043a-4653-ae9a-550d0b929386",
   "metadata": {},
   "source": [
    "**Creating a text Response**"
   ]
  },
  {
   "cell_type": "code",
   "execution_count": 5,
   "id": "81a8e812-85b4-446b-9e54-ca8a227947f2",
   "metadata": {},
   "outputs": [
    {
     "name": "stdout",
     "output_type": "stream",
     "text": [
      "********** response *************\n",
      "{\"type\": \"function\", \"name\": \"extract_entities_and_relationships\", \"parameters\": {\"entity_types\": {\"type\": \"object\", \"value\": [\"company\", \"company profile\", \"technology\"]}, \"text\": {\"type\": \"object\", \"value\": \"## Galaxium Travels - Company Overview\\n\\nGalaxium Travels Logo\\n\\n## Company Profile\\n\\nFounded in 2025, Galaxium Travels has established itself as the premier luxury space travel experience provider. Our company combines cuttingedge space technology with unparalleled luxury service to create unforgettable journeys beyond Earth's atmosphere.\\n\\n## Mission Statement\\n\\nTo democratize space travel while maintaining the highest standards of luxury, safety, and environmental responsibility, making the cosmos accessible to those who dream of exploring the final frontier.\\n\\n## Vision\\n\\nTo become the leading space tourism company by 2030, offering a diverse portfolio of space travel experiences that range from orbital flights to lunar excursions, while pioneering sustainable space travel practices.\\n\\n## Core Values\\n\\n## Excellence in Service 1.\\n- Uncompromising commitment to customer satisfaction \\u25cf\\n- Personalized attention to every detail \\u25cf\\n- World-class amenities and experiences \\u25cf\\n- Safety First 2.\\n- Rigorous safety protocols \\u25cf\\n- Continuous training and certification \\u25cf\\n- State-of-the-art spacecraft maintenance \\u25cf\\n- Innovation 3.\\n- Continuous research and development \\u25cf\\n- Adoption of cutting-edge space technology \\u25cf\\n- Creative approach to space tourism \\u25cf\\n- Sustainability 4.\\n- Eco-friendly propulsion systems \\u25cf\\n- Minimal environmental impact \\u25cf\\n- Sustainable space tourism practices \\u25cf\\n- Accessibility 5.\\n- Diverse travel packages \\u25cf\\n- Flexible payment options \\u25cf\\n- Inclusive space travel programs \\u25cf\\n\\n<!-- image -->\\n\\n## Key Statistics\\n\\n- Founded \\u2022\\n- : 2025\\n- Headquarters : Spaceport Alpha, Mojave Desert, California \\u2022\\n- Employees \\u2022\\n- : 500+\\n- Spacecraft Fleet : 5 luxury vessels \\u2022\\n- Annual Passengers \\u2022\\n: 1,000+\\n- Customer Satisfaction \\u2022\\n: 98%\\n\\n## Leadership Team\\n\\n- CEO : Dr. Alexander Nova \\u2022\\n- CTO : Dr. Sarah Quantum \\u2022\\n- COO : James Stellar \\u2022\\n- CFO : Maria Cosmos \\u2022\\n- CCO : David Orbit \\u2022\\n\\n<!-- image -->\\n\\n## Current Operations\\n\\n## Primary Services\\n\\n- Orbital Flights 1.\\n- 3-day luxury space station experience \\u25cf\\n- Zero-gravity activities \\u25cf\\n- Earth observation opportunities \\u25cf\\n- Lunar\"}}}\n",
      "********** response clean *************\n",
      "{\"type\": \"function\", \"name\": \"extract_entities_and_relationships\", \"parameters\": {\"entity_types\": {\"type\": \"object\", \"value\": [\"company\", \"company profile\", \"technology\"]}, \"text\": {\"type\": \"object\", \"value\": \"## Galaxium Travels - Company Overview\\n\\nGalaxium Travels Logo\\n\\n## Company Profile\\n\\nFounded in 2025, Galaxium Travels has established itself as the premier luxury space travel experience provider. Our company combines cuttingedge space technology with unparalleled luxury service to create unforgettable journeys beyond Earth's atmosphere.\\n\\n## Mission Statement\\n\\nTo democratize space travel while maintaining the highest standards of luxury, safety, and environmental responsibility, making the cosmos accessible to those who dream of exploring the final frontier.\\n\\n## Vision\\n\\nTo become the leading space tourism company by 2030, offering a diverse portfolio of space travel experiences that range from orbital flights to lunar excursions, while pioneering sustainable space travel practices.\\n\\n## Core Values\\n\\n## Excellence in Service 1.\\n- Uncompromising commitment to customer satisfaction \\u25cf\\n- Personalized attention to every detail \\u25cf\\n- World-class amenities and experiences \\u25cf\\n- Safety First 2.\\n- Rigorous safety protocols \\u25cf\\n- Continuous training and certification \\u25cf\\n- State-of-the-art spacecraft maintenance \\u25cf\\n- Innovation 3.\\n- Continuous research and development \\u25cf\\n- Adoption of cutting-edge space technology \\u25cf\\n- Creative approach to space tourism \\u25cf\\n- Sustainability 4.\\n- Eco-friendly propulsion systems \\u25cf\\n- Minimal environmental impact \\u25cf\\n- Sustainable space tourism practices \\u25cf\\n- Accessibility 5.\\n- Diverse travel packages \\u25cf\\n- Flexible payment options \\u25cf\\n- Inclusive space travel programs \\u25cf\\n\\n<!-- image -->\\n\\n## Key Statistics\\n\\n- Founded \\u2022\\n- : 2025\\n- Headquarters : Spaceport Alpha, Mojave Desert, California \\u2022\\n- Employees \\u2022\\n- : 500+\\n- Spacecraft Fleet : 5 luxury vessels \\u2022\\n- Annual Passengers \\u2022\\n: 1,000+\\n- Customer Satisfaction \\u2022\\n: 98%\\n\\n## Leadership Team\\n\\n- CEO : Dr. Alexander Nova \\u2022\\n- CTO : Dr. Sarah Quantum \\u2022\\n- COO : James Stellar \\u2022\\n- CFO : Maria Cosmos \\u2022\\n- CCO : David Orbit \\u2022\\n\\n<!-- image -->\\n\\n## Current Operations\\n\\n## Primary Services\\n\\n- Orbital Flights 1.\\n- 3-day luxury space station experience \\u25cf\\n- Zero-gravity activities \\u25cf\\n- Earth observation opportunities \\u25cf\\n- Lunar\"}}}\n",
      "********** single_response_json *************\n",
      "{'type': 'function', 'name': 'extract_entities_and_relationships', 'parameters': {'entity_types': {'type': 'object', 'value': ['company', 'company profile', 'technology']}, 'text': {'type': 'object', 'value': \"## Galaxium Travels - Company Overview\\n\\nGalaxium Travels Logo\\n\\n## Company Profile\\n\\nFounded in 2025, Galaxium Travels has established itself as the premier luxury space travel experience provider. Our company combines cuttingedge space technology with unparalleled luxury service to create unforgettable journeys beyond Earth's atmosphere.\\n\\n## Mission Statement\\n\\nTo democratize space travel while maintaining the highest standards of luxury, safety, and environmental responsibility, making the cosmos accessible to those who dream of exploring the final frontier.\\n\\n## Vision\\n\\nTo become the leading space tourism company by 2030, offering a diverse portfolio of space travel experiences that range from orbital flights to lunar excursions, while pioneering sustainable space travel practices.\\n\\n## Core Values\\n\\n## Excellence in Service 1.\\n- Uncompromising commitment to customer satisfaction ●\\n- Personalized attention to every detail ●\\n- World-class amenities and experiences ●\\n- Safety First 2.\\n- Rigorous safety protocols ●\\n- Continuous training and certification ●\\n- State-of-the-art spacecraft maintenance ●\\n- Innovation 3.\\n- Continuous research and development ●\\n- Adoption of cutting-edge space technology ●\\n- Creative approach to space tourism ●\\n- Sustainability 4.\\n- Eco-friendly propulsion systems ●\\n- Minimal environmental impact ●\\n- Sustainable space tourism practices ●\\n- Accessibility 5.\\n- Diverse travel packages ●\\n- Flexible payment options ●\\n- Inclusive space travel programs ●\\n\\n<!-- image -->\\n\\n## Key Statistics\\n\\n- Founded •\\n- : 2025\\n- Headquarters : Spaceport Alpha, Mojave Desert, California •\\n- Employees •\\n- : 500+\\n- Spacecraft Fleet : 5 luxury vessels •\\n- Annual Passengers •\\n: 1,000+\\n- Customer Satisfaction •\\n: 98%\\n\\n## Leadership Team\\n\\n- CEO : Dr. Alexander Nova •\\n- CTO : Dr. Sarah Quantum •\\n- COO : James Stellar •\\n- CFO : Maria Cosmos •\\n- CCO : David Orbit •\\n\\n<!-- image -->\\n\\n## Current Operations\\n\\n## Primary Services\\n\\n- Orbital Flights 1.\\n- 3-day luxury space station experience ●\\n- Zero-gravity activities ●\\n- Earth observation opportunities ●\\n- Lunar\"}}}\n"
     ]
    }
   ],
   "source": [
    "element_position=0\n",
    "try:\n",
    "    single_response = chain_text.invoke({\"input_text\": texts[element_position]})\n",
    "    print(f\"********** response *************\\n{single_response}\")\n",
    "    clean_string = single_response.replace('\\u25cf', '')\n",
    "    print(f\"********** response clean *************\\n{clean_string}\")\n",
    "    import json\n",
    "    single_response_json = json.loads(clean_string)\n",
    "    print(f\"********** single_response_json *************\\n{single_response_json}\")\n",
    "    \n",
    "except Exception as e:\n",
    "    print(f\"********** error *************\\n{e}\")"
   ]
  },
  {
   "cell_type": "markdown",
   "id": "55fd5fa6-626b-4c6b-ad17-84d4d3bc5bf4",
   "metadata": {},
   "source": [
    "We see the extraction of **entities**:\n",
    "\n",
    "`(\"entity\"{\"tuple_delimiter}\"GALAXIUM TRAVELS\"{\"tuple_delimiter}\"company{\"tuple_delimiter\"}\"Galaxium Travels is a luxury space travel experience provider that combines cutting-edge space technology with unparalleled luxury service.\"){record_delimiter}(\"entity\"{\"tuple_delimiter}\"GALAXIUM TRAVELS COMPANY PROFILE\"{\"tuple_delimiter}\"company profile{\"tuple_delimiter\"}\"The company profile of Galaxium Travels includes its mission statement, vision, core values, key statistics, leadership team, current operations, future plans, market position, partnerships, awards and recognition, financial overview, and corporate social responsibility.\"){record_delimiter}(\"relationship\"{\"tuple_delimiter}\"GALAXIUM TRAVELS\"{\"tuple_delimiter}\"GALAXIUM TRAVELS COMPANY PROFILE\"{\"tuple_delimiter\"}\"Galaxium Travels has a company profile that outlines its mission, vision, and values.\"{\"tuple_delimiter}\"8)`\n",
    "\n",
    "As well as **relationships**:\n",
    "\n",
    "`(\"relationship\"{\"tuple_delimiter}\"GALAXIUM TRAVELS\"{\"tuple_delimiter}\"GALAXIUM TRAVELS COMPANY PROFILE\"{\"tuple_delimiter\"}\"Galaxium Travels has a company profile that outlines its mission, vision, and values.\"{\"tuple_delimiter}\"8))`\n",
    "\n",
    "Following this, these per chunk subgraphs are merged together - any entities with the same name and type are merged by creating an array of their descriptions. Similarly, any relationships with the same source and target are merged by creating an array of their descriptions. These lists are then summarized one more time "
   ]
  },
  {
   "cell_type": "markdown",
   "id": "ad41d036-00da-4dba-8fcf-1cee5b683d52",
   "metadata": {},
   "source": [
    "### **Looking at Final Entities and Relationships**"
   ]
  },
  {
   "cell_type": "code",
   "execution_count": 8,
   "id": "26613855-7891-4b16-ad84-758f8a0ed8fd",
   "metadata": {},
   "outputs": [
    {
     "data": {
      "text/html": [
       "<div>\n",
       "<style scoped>\n",
       "    .dataframe tbody tr th:only-of-type {\n",
       "        vertical-align: middle;\n",
       "    }\n",
       "\n",
       "    .dataframe tbody tr th {\n",
       "        vertical-align: top;\n",
       "    }\n",
       "\n",
       "    .dataframe thead th {\n",
       "        text-align: right;\n",
       "    }\n",
       "</style>\n",
       "<table border=\"1\" class=\"dataframe\">\n",
       "  <thead>\n",
       "    <tr style=\"text-align: right;\">\n",
       "      <th></th>\n",
       "      <th>type</th>\n",
       "      <th>name</th>\n",
       "      <th>parameters</th>\n",
       "    </tr>\n",
       "  </thead>\n",
       "  <tbody>\n",
       "    <tr>\n",
       "      <th>entity_types</th>\n",
       "      <td>function</td>\n",
       "      <td>extract_entities_and_relationships</td>\n",
       "      <td>{'type': 'object', 'value': ['company', 'compa...</td>\n",
       "    </tr>\n",
       "    <tr>\n",
       "      <th>text</th>\n",
       "      <td>function</td>\n",
       "      <td>extract_entities_and_relationships</td>\n",
       "      <td>{'type': 'object', 'value': '## Galaxium Trave...</td>\n",
       "    </tr>\n",
       "  </tbody>\n",
       "</table>\n",
       "</div>"
      ],
      "text/plain": [
       "                  type                                name  \\\n",
       "entity_types  function  extract_entities_and_relationships   \n",
       "text          function  extract_entities_and_relationships   \n",
       "\n",
       "                                                     parameters  \n",
       "entity_types  {'type': 'object', 'value': ['company', 'compa...  \n",
       "text          {'type': 'object', 'value': '## Galaxium Trave...  "
      ]
     },
     "execution_count": 8,
     "metadata": {},
     "output_type": "execute_result"
    }
   ],
   "source": [
    "import pandas as pd\n",
    "all_entries = pd.read_json(single_response)\n",
    "all_entries.head()\n",
    "#entities = pd.read_parquet('./ragtest/output/create_final_entities.parquet')\n",
    "#entities.head()"
   ]
  },
  {
   "cell_type": "code",
   "execution_count": 11,
   "id": "642d3847-0dc0-4eb1-b6bc-31be2faea79f",
   "metadata": {},
   "outputs": [
    {
     "name": "stdout",
     "output_type": "stream",
     "text": [
      "data_entity_types:\n",
      "['company', 'company profile', 'technology']\n",
      "\n"
     ]
    }
   ],
   "source": [
    "data_entity_types = single_response_json['parameters']['entity_types']\n",
    "print(f\"data_entity_types:\\n{data_entity_types['value']}\\n\")"
   ]
  },
  {
   "cell_type": "code",
   "execution_count": 12,
   "id": "0bfba530-e574-463b-8ef9-eda35afaf607",
   "metadata": {},
   "outputs": [
    {
     "name": "stdout",
     "output_type": "stream",
     "text": [
      "data_entity_types:\n",
      "## Galaxium Travels - Company Overview\n",
      "\n",
      "Galaxium Travels Logo\n",
      "\n",
      "## Company Profile\n",
      "\n",
      "Founded in 2025, Galaxium Travels has established itself as the premier luxury space travel experience provider. Our company combines cuttingedge space technology with unparalleled luxury service to create unforgettable journeys beyond Earth's atmosphere.\n",
      "\n",
      "## Mission Statement\n",
      "\n",
      "To democratize space travel while maintaining the highest standards of luxury, safety, and environmental responsibility, making the cosmos accessible to those who dream of exploring the final frontier.\n",
      "\n",
      "## Vision\n",
      "\n",
      "To become the leading space tourism company by 2030, offering a diverse portfolio of space travel experiences that range from orbital flights to lunar excursions, while pioneering sustainable space travel practices.\n",
      "\n",
      "## Core Values\n",
      "\n",
      "## Excellence in Service 1.\n",
      "- Uncompromising commitment to customer satisfaction ●\n",
      "- Personalized attention to every detail ●\n",
      "- World-class amenities and experiences ●\n",
      "- Safety First 2.\n",
      "- Rigorous safety protocols ●\n",
      "- Continuous training and certification ●\n",
      "- State-of-the-art spacecraft maintenance ●\n",
      "- Innovation 3.\n",
      "- Continuous research and development ●\n",
      "- Adoption of cutting-edge space technology ●\n",
      "- Creative approach to space tourism ●\n",
      "- Sustainability 4.\n",
      "- Eco-friendly propulsion systems ●\n",
      "- Minimal environmental impact ●\n",
      "- Sustainable space tourism practices ●\n",
      "- Accessibility 5.\n",
      "- Diverse travel packages ●\n",
      "- Flexible payment options ●\n",
      "- Inclusive space travel programs ●\n",
      "\n",
      "<!-- image -->\n",
      "\n",
      "## Key Statistics\n",
      "\n",
      "- Founded •\n",
      "- : 2025\n",
      "- Headquarters : Spaceport Alpha, Mojave Desert, California •\n",
      "- Employees •\n",
      "- : 500+\n",
      "- Spacecraft Fleet : 5 luxury vessels •\n",
      "- Annual Passengers •\n",
      ": 1,000+\n",
      "- Customer Satisfaction •\n",
      ": 98%\n",
      "\n",
      "## Leadership Team\n",
      "\n",
      "- CEO : Dr. Alexander Nova •\n",
      "- CTO : Dr. Sarah Quantum •\n",
      "- COO : James Stellar •\n",
      "- CFO : Maria Cosmos •\n",
      "- CCO : David Orbit •\n",
      "\n",
      "<!-- image -->\n",
      "\n",
      "## Current Operations\n",
      "\n",
      "## Primary Services\n",
      "\n",
      "- Orbital Flights 1.\n",
      "- 3-day luxury space station experience ●\n",
      "- Zero-gravity activities ●\n",
      "- Earth observation opportunities ●\n",
      "- Lunar\n",
      "\n"
     ]
    }
   ],
   "source": [
    "data_text = single_response_json['parameters']['text']\n",
    "print(f\"data_entity_types:\\n{data_text['value']}\\n\")"
   ]
  },
  {
   "cell_type": "code",
   "execution_count": null,
   "id": "8882b288-f2a4-4a31-82b5-02d6681157a6",
   "metadata": {},
   "outputs": [],
   "source": [
    "data = single_response_json['parameters']['entity_types']\n",
    "print(f\"Data {data}\")"
   ]
  },
  {
   "cell_type": "code",
   "execution_count": null,
   "id": "9c4bf9fc-bb4e-4546-897b-991236079323",
   "metadata": {},
   "outputs": [],
   "source": [
    "relationships = pd.read_parquet('./ragtest/output/create_final_relationships.parquet')\n",
    "\n",
    "relationships.head()"
   ]
  },
  {
   "cell_type": "markdown",
   "id": "d0c77836-f9ae-4602-a4d0-760915248e0a",
   "metadata": {},
   "source": [
    "### **Community Detection & Node Embedding**\n",
    "\n",
    "<img src=\"./media/leidan.png\" width=600>\n",
    "\n",
    "After we have our basic graph with entities and relationships, we analyze its structure in two ways. Community Detection uses the [Leiden algorithm](https://en.wikipedia.org/wiki/Leiden_algorithm) to find explicit groupings in the graph, creating a hierarchy of related entities. The lower in the hierarchy, the more granular the community. Node Embedding uses [Node2Vec](https://arxiv.org/abs/1607.00653) to create vector representations of each entity, capturing implicit relationships in the graph structure. These complementary approaches let us understand both obvious connections through communities and subtle patterns through embeddings.\n",
    "\n",
    "Combining all of this with our relationships gives us our final nodes."
   ]
  },
  {
   "cell_type": "code",
   "execution_count": null,
   "id": "058d8f6d-6eb7-45fe-bf1c-e28055a683c5",
   "metadata": {},
   "outputs": [],
   "source": [
    "nodes = pd.read_parquet('./ragtest/output/create_final_nodes.parquet')\n",
    "\n",
    "nodes.head(10)"
   ]
  },
  {
   "cell_type": "markdown",
   "id": "457b12c9-fc5c-47cf-a597-6c6bfb3177ee",
   "metadata": {},
   "source": [
    "At this step the graph is effectively created, however we can introduce a few extra steps that will allow us to do some advanced retrieval."
   ]
  },
  {
   "cell_type": "markdown",
   "id": "62d8ed95-677b-405e-82d3-6fb1a3f1917c",
   "metadata": {},
   "source": [
    "### Community Report Generation & Summarization\n",
    "\n",
    "Now that we have clear community grouping, we can aggregate the main concepts across hierarchical node communities with another generation step, and a shorthand summary of that summary. Similar to the nodes, these summaries are also ran through an embedding model and stored in a vector store."
   ]
  },
  {
   "cell_type": "code",
   "execution_count": null,
   "id": "702e5559-ed4e-4964-bf72-113912974102",
   "metadata": {},
   "outputs": [],
   "source": [
    "community_reports = pd.read_parquet('./ragtest/output/create_final_community_reports.parquet')\n",
    "\n",
    "community_reports.head()"
   ]
  },
  {
   "cell_type": "code",
   "execution_count": null,
   "id": "0ca51c33-92db-47c1-9f00-0a8e934332fe",
   "metadata": {},
   "outputs": [],
   "source": [
    "print(community_reports[\"full_content\"][0])"
   ]
  },
  {
   "cell_type": "code",
   "execution_count": null,
   "id": "42c3e76b-e59f-4577-b1a0-3b07f0ebb499",
   "metadata": {},
   "outputs": [],
   "source": [
    "print(community_reports[\"summary\"][0])"
   ]
  },
  {
   "cell_type": "markdown",
   "id": "fb5243d1-e1d2-4525-ab3c-e1457db2eea7",
   "metadata": {},
   "source": [
    "### The Final Graph!\n",
    "\n",
    "<img src=\"./media/ghraphrag_viz.svg\" width=800>\n",
    "\n",
    "*[Full Size PDF](./ghraphrag_viz.pdf)*"
   ]
  },
  {
   "cell_type": "markdown",
   "id": "172bf775-ee3b-4d4a-a973-317f1681b8af",
   "metadata": {},
   "source": [
    "---\n",
    "\n",
    "## GraphRAG Retrieval\n",
    "\n",
    "<img src=\"./media/kg_retrieval.png\" width=600>\n",
    "\n",
    "*[Unifying Large Language Models and Knowledge Graphs: A Roadmap](https://arxiv.org/pdf/2306.08302)*\n",
    "\n",
    "With our knowledge graph constructed, and hierarchichal communities delineated, we can now perform multiple types of search that can both take advantage of the graph structure, and multiple levels of specificity across our communities. Specifically:\n",
    "\n",
    "1. **Global Search**: Uses the LLM Generated community reports from a specified level of the graph's community hierarchy as context data to generate response.\n",
    "2. **Local Search**: Combines structured data from the knowledge graph with unstructured data from the input document(s) to augment the LLM context with relevant entity information.\n",
    "3. **Drift Search**: Dynamic Reasoning and Inference with Flexible Traversal, an approach to local search queries by including community information in the search process, thus combining global and local search."
   ]
  },
  {
   "cell_type": "markdown",
   "id": "f14a5823-048b-4a54-9da5-51305b8a1c7a",
   "metadata": {},
   "source": [
    "**GraphRAG Retrieval Function**\n",
    "\n",
    "*Note: Wrapping the [GraphRAG CLI tool](https://microsoft.github.io/graphrag/cli/) as a function here instead of using their [library](https://microsoft.github.io/graphrag/examples_notebooks/api_overview/) for an easier example. As such, notebook needs to be running in the same GraphRAG environment/kernal.*"
   ]
  },
  {
   "cell_type": "code",
   "execution_count": null,
   "id": "ae01778e-518f-42fe-929e-dd2ef63a8753",
   "metadata": {},
   "outputs": [],
   "source": [
    "import subprocess\n",
    "import shlex\n",
    "from typing import Optional\n",
    "\n",
    "def query_graphrag(\n",
    "    query: str,\n",
    "    method: str = \"global\",\n",
    "    root_path: str = \"./ragtest\",\n",
    "    timeout: Optional[int] = None,\n",
    "    community_level: int = 2,\n",
    "    dynamic_community_selection: bool = False\n",
    ") -> str:\n",
    "    \"\"\"\n",
    "    Execute a GraphRAG query using the CLI tool.\n",
    "    \n",
    "    Args:\n",
    "        query (str): The query string to process\n",
    "        method (str): Query method (e.g., \"global\", \"local\", or \"drift\")\n",
    "        root_path (str): Path to the root directory\n",
    "        timeout (int, optional): Timeout in seconds for the command\n",
    "        community_level (int): The community level in the Leiden community hierarchy (default: 2)\n",
    "        dynamic_community_selection (bool): Whether to use global search with dynamic community selection (default: False)\n",
    "    \n",
    "    Returns:\n",
    "        str: The output from GraphRAG\n",
    "        \n",
    "    Raises:\n",
    "        subprocess.CalledProcessError: If the command fails\n",
    "        subprocess.TimeoutExpired: If the command times out\n",
    "        ValueError: If community_level is negative\n",
    "    \"\"\"\n",
    "    # Validate community level\n",
    "    if community_level < 0:\n",
    "        raise ValueError(\"Community level must be non-negative\")\n",
    "    \n",
    "    # Construct the base command\n",
    "    command = [\n",
    "        'graphrag', 'query',\n",
    "        '--root', root_path,\n",
    "        '--method', method,\n",
    "        '--query', query,\n",
    "        '--community-level', str(community_level)\n",
    "    ]\n",
    "    \n",
    "    # Add dynamic community selection flag if enabled\n",
    "    if dynamic_community_selection:\n",
    "        command.append('--dynamic-community-selection')\n",
    "    \n",
    "    try:\n",
    "        # Execute the command and capture output\n",
    "        result = subprocess.run(\n",
    "            command,\n",
    "            capture_output=True,\n",
    "            text=True,\n",
    "            timeout=timeout\n",
    "        )\n",
    "        \n",
    "        # Check if the command was successful\n",
    "        result.check_returncode()\n",
    "        \n",
    "        return result.stdout.strip()\n",
    "        \n",
    "    except subprocess.CalledProcessError as e:\n",
    "        error_message = f\"Command failed with exit code {e.returncode}\\nError: {e.stderr}\"\n",
    "        raise subprocess.CalledProcessError(\n",
    "            e.returncode,\n",
    "            e.cmd,\n",
    "            output=e.output,\n",
    "            stderr=error_message\n",
    "        )"
   ]
  },
  {
   "cell_type": "markdown",
   "id": "c02da6ea-e0ad-41d4-982a-f9058184add0",
   "metadata": {},
   "source": [
    "### Local Search\n",
    "\n",
    "<img src=\"./media/local_search.png\" width=900>\n",
    "\n",
    "The GraphRAG approach to local search is the most similar to regular semantic RAG search. It combines structured data from the knowledge graph with unstructured data from the input documents to augment the LLM context with relevant entity information. In essence, we are going to first search for relevant entities to the query using semantic search. These become the entry points on our graph that we can now traverse. Starting at these points, we look at connected chunks of text, community reports, other entities, and relationships between them. All of the data retrieved is filtered and ranked to fit into a pre-defined context window."
   ]
  },
  {
   "cell_type": "code",
   "execution_count": null,
   "id": "ad477f20-1019-4da6-a70a-9cc9e362fb03",
   "metadata": {},
   "outputs": [],
   "source": [
    "result = query_graphrag(\n",
    "    query=\"How does a company choose between RAG, fine-tuning, and different PEFT approaches?\",\n",
    "    method=\"local\"\n",
    ")\n",
    "print(\"Query result:\")\n",
    "print(result)"
   ]
  },
  {
   "cell_type": "markdown",
   "id": "6b8368cd-25bb-4460-802f-8ed76a39bb2d",
   "metadata": {},
   "source": [
    "### Global Search\n",
    "\n",
    "<img src=\"./media/global_search.png\" width=1000>\n",
    "\n",
    "Through the semantic clustering of communities during the indexxing process outlined above we created community reports as summaries of high level themes across these groupings. Having this community summary data at various levels allows us to do something that traditional RAG performs poorly at, answering queries about broad themes and ideas across our unstructured data.\n",
    "\n",
    "To capture as much broad information as possible in an efficient manner, GraphRAG implements a [map reduce](https://en.wikipedia.org/wiki/MapReduce) approach. Given a query, relevant community node reports at a specific hierarchical level are retrieved. These are shuffled and chunked, where each chunk is used to generate a list of points that each have their own \"importance score\". These intermediate points are ranked and filtered, attempting to maintain the most important points. These become the aggregate intermediary response, which is passed to the LLM as the context for the final response."
   ]
  },
  {
   "cell_type": "code",
   "execution_count": null,
   "id": "77b59560-c02f-4c2e-a969-8042caef03bf",
   "metadata": {},
   "outputs": [],
   "source": [
    "result = query_graphrag(\n",
    "    query=\"How does a company choose between RAG, fine-tuning, and different PEFT approaches?\",\n",
    "    method=\"global\"\n",
    ")\n",
    "print(\"Query result:\")\n",
    "print(result)"
   ]
  },
  {
   "cell_type": "markdown",
   "id": "c35d9948-ba7e-49af-ac49-62b835d62174",
   "metadata": {},
   "source": [
    "### DRIFT Search\n",
    "\n",
    "<img src=\"./media/drift_search.png\" width=1000>\n",
    "\n",
    "[Dynamic Reasoning and Inference with Flexible Traversal](https://www.microsoft.com/en-us/research/blog/introducing-drift-search-combining-global-and-local-search-methods-to-improve-quality-and-efficiency/), or DRIFT, is a novel GraphRAG concept introduced by Microsoft as an approach to local search queries that include community information in the search process.\n",
    "\n",
    "The user's query is initially processed through [Hypothetical Document Embedding (HyDE)](https://arxiv.org/pdf/2212.10496), which creates a hypothetical document similar to those found in the graph already, but using the user's topic query. This document is embedded and used for semantic retrieval of the top-k relevant community reports. From these matches, we generate an initial answer along with several follow-up questions as a lightweight version of global search. They refer to this as the primer.\n",
    "\n",
    "Once this primer phase is complete, we execute local searches for each follow-up question generated. Each local search produces both intermediate answers and new follow-up questions, creating a refinement loop. This loop runs for two iterations (noted future research planned to develop reward functions for smarter termination). An important note that makes these local searches unique is that they are informed by both community-level knowledge and detailed entity/relationship data. This allows the DRIFT process to find relevant information even when the initial query diverges from the indexing persona, and it can adapt its approach based on emerging information during the search.\n",
    "\n",
    "The final output is structured as a hierarchy of questions and answers, ranked by their relevance to the original query. Map reduce is used again with an equal weighting on all intermediate answers, then passed to the language model for a final response. DRIFT cleverly combines global and local search with guided exploration to provide both broad context and specific details in responses."
   ]
  },
  {
   "cell_type": "code",
   "execution_count": null,
   "id": "0ffcac67-ab84-4dd7-bf7e-cf4b2a4e7cbd",
   "metadata": {},
   "outputs": [],
   "source": [
    "result = query_graphrag(\n",
    "    query=\"How does a company choose between RAG, fine-tuning, and different PEFT approaches?\",\n",
    "    method=\"drift\"\n",
    ")\n",
    "print(\"Query result:\")\n",
    "print(result)"
   ]
  },
  {
   "cell_type": "markdown",
   "id": "7b2e04a5-aa55-4955-b2c0-b86dd462f549",
   "metadata": {},
   "source": [
    "---\n",
    "\n",
    "## Comparing to Regular Vector Database Retrieval\n",
    "\n",
    "<img src=\"./media/basic_retrieval.png\" width=600>\n",
    " \n",
    "To give some comparison, let's look back at traditional chunking, embedding, and similarity retrieval RAG"
   ]
  },
  {
   "cell_type": "markdown",
   "id": "8e12fa20-81d9-43cc-a641-6e8ba7cb5e9b",
   "metadata": {},
   "source": [
    "**Instantiate our Database**\n",
    "\n",
    "For this we'll be using [ChromaDB](https://www.trychroma.com) with the same chunks as were loaded into our graph."
   ]
  },
  {
   "cell_type": "code",
   "execution_count": null,
   "id": "a361a631-4e98-47d5-9b2d-48810c2eab41",
   "metadata": {},
   "outputs": [],
   "source": [
    "import chromadb\n",
    "\n",
    "chroma_client = chromadb.PersistentClient(path=\"./notebook/chromadb\")\n",
    "paper_collection = chroma_client.get_or_create_collection(name=\"paper_collection\")"
   ]
  },
  {
   "cell_type": "markdown",
   "id": "6a160165-6ed9-4ac9-be3b-db5bff88beb4",
   "metadata": {},
   "source": [
    "**Embed Chunks Into Collection**"
   ]
  },
  {
   "cell_type": "code",
   "execution_count": null,
   "id": "24350f0f-32ef-41ea-9d7c-5e970ca172f7",
   "metadata": {},
   "outputs": [],
   "source": [
    "i = 0\n",
    "for text in texts:\n",
    "    paper_collection.add(\n",
    "        documents=[text],\n",
    "        ids=f\"chunk_{i}\"\n",
    "    )\n",
    "    i += 1"
   ]
  },
  {
   "cell_type": "markdown",
   "id": "1f3961f0-bdce-4d1d-8d49-86355bb7d505",
   "metadata": {},
   "source": [
    "**Retrieval Function**"
   ]
  },
  {
   "cell_type": "code",
   "execution_count": null,
   "id": "841f2276-fc27-4008-9e63-6ec9d4db66ce",
   "metadata": {},
   "outputs": [],
   "source": [
    "def chroma_retrieval(query, num_results=5):\n",
    "    results = paper_collection.query(\n",
    "        query_texts=[query],\n",
    "        n_results=num_results\n",
    "    )\n",
    "    return results"
   ]
  },
  {
   "cell_type": "markdown",
   "id": "ac2bb61e-5d36-47fc-b2ec-6557293f5ef4",
   "metadata": {},
   "source": [
    "**RAG Prompt & Chain**"
   ]
  },
  {
   "cell_type": "code",
   "execution_count": null,
   "id": "593a23ff-c34c-47b4-b6d8-c2ca59fad69f",
   "metadata": {},
   "outputs": [],
   "source": [
    "rag_prompt_template = \"\"\"\n",
    "Generate a response of the target length and format that responds to the user's question, summarizing all information in the input data tables appropriate for the response length and format, and incorporating any relevant general knowledge.\n",
    "\n",
    "If you don't know the answer, just say so. Do not make anything up.\n",
    "\n",
    "Do not include information where the supporting evidence for it is not provided.\n",
    "\n",
    "Context: {retrieved_docs}\n",
    "\n",
    "User Question: {query}\n",
    "\n",
    "\"\"\"\n",
    "\n",
    "rag_prompt = ChatPromptTemplate.from_template(rag_prompt_template)\n",
    "\n",
    "rag_chain = rag_prompt | llm | StrOutputParser()"
   ]
  },
  {
   "cell_type": "markdown",
   "id": "3211bbff-9927-464b-942d-964005707475",
   "metadata": {},
   "source": [
    "**RAG Function**"
   ]
  },
  {
   "cell_type": "code",
   "execution_count": null,
   "id": "e654479e-0d40-4de3-8d03-1de08b54a3fb",
   "metadata": {},
   "outputs": [],
   "source": [
    "def chroma_rag(query):\n",
    "    retrieved_docs = chroma_retrieval(query)[\"documents\"][0]\n",
    "    response = rag_chain.invoke({\"retrieved_docs\": retrieved_docs, \"query\": query})\n",
    "    return response"
   ]
  },
  {
   "cell_type": "markdown",
   "id": "9fba855e-b29c-4169-8302-b1b5cceee76c",
   "metadata": {},
   "source": [
    "**RAG Response**"
   ]
  },
  {
   "cell_type": "code",
   "execution_count": null,
   "id": "72201a27-6dac-4f3b-8ff9-717f4998470c",
   "metadata": {},
   "outputs": [],
   "source": [
    "response = chroma_rag(\"How does a company choose between RAG, fine-tuning, and different PEFT approaches?\")\n",
    "print(response)"
   ]
  },
  {
   "cell_type": "code",
   "execution_count": null,
   "id": "6b8c5872-2185-46dc-aaef-2108bc490a80",
   "metadata": {},
   "outputs": [],
   "source": []
  },
  {
   "cell_type": "markdown",
   "id": "0c6a630f-3268-45ec-b58f-dbb42106864a",
   "metadata": {},
   "source": [
    "---\n",
    "## Discussion\n",
    "\n",
    "**Traditional/Naive RAG:**\n",
    "\n",
    "Benefits:\n",
    "- Simpler implementation and deployment\n",
    "- Works well for straightforward information retrieval tasks\n",
    "- Good at handling unstructured text data\n",
    "- Lower computational overhead\n",
    "\n",
    "Drawbacks:\n",
    "- Loses structural information when chunking documents\n",
    "- Can break up related content during text segmentation\n",
    "- Limited ability to capture relationships between different pieces of information\n",
    "- May struggle with complex reasoning tasks requiring connecting multiple facts\n",
    "- Potential for incomplete or fragmented answers due to chunking boundaries\n",
    "\n",
    "**GraphRAG:**\n",
    "\n",
    "Benefits:\n",
    "- Preserves structural relationships and hierarchies in the knowledge\n",
    "- Better at capturing connections between related information\n",
    "- Can provide more complete and contextual answers\n",
    "- Improved retrieval accuracy by leveraging graph structure\n",
    "- Better supports complex reasoning across multiple facts\n",
    "- Can maintain document coherence better than chunk-based approaches\n",
    "- More interpretable due to explicit knowledge representation\n",
    "\n",
    "Drawbacks:\n",
    "- More complex to implement and maintain\n",
    "- Requires additional processing to construct and update knowledge graphs\n",
    "- Higher computational overhead for graph operations\n",
    "- May require domain expertise to define graph schema/structure\n",
    "- More challenging to scale to very large datasets\n",
    "- Additional storage requirements for graph structure\n",
    "\n",
    "**Key Differentiators:**\n",
    "1. Knowledge Representation: Traditional RAG treats everything as flat text chunks, while GraphRAG maintains structured relationships in a graph format\n",
    "\n",
    "2. Context Preservation: GraphRAG better preserves context and relationships between different pieces of information compared to the chunking approach of traditional RAG\n",
    "\n",
    "3. Reasoning Capability: GraphRAG enables better multi-hop reasoning and connection of related facts through graph traversal, while traditional RAG is more limited to direct retrieval\n",
    "\n",
    "4. Answer Quality: GraphRAG tends to produce more complete and coherent answers since it can access related information through graph connections rather than being limited by chunk boundaries\n",
    "\n",
    "The choice between traditional RAG and GraphRAG often depends on the specific use case, with GraphRAG being particularly valuable when maintaining relationships between information is important or when complex reasoning is required. An important note as well, GraphRAG approaches still rely on regular embedding and retrieval methods themselves. They compliment eahcother!"
   ]
  }
 ],
 "metadata": {
  "kernelspec": {
   "display_name": "Python 3 (ipykernel)",
   "language": "python",
   "name": "python3"
  },
  "language_info": {
   "codemirror_mode": {
    "name": "ipython",
    "version": 3
   },
   "file_extension": ".py",
   "mimetype": "text/x-python",
   "name": "python",
   "nbconvert_exporter": "python",
   "pygments_lexer": "ipython3",
   "version": "3.12.3"
  }
 },
 "nbformat": 4,
 "nbformat_minor": 5
}
